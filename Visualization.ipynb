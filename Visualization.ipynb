{
 "cells": [
  {
   "cell_type": "markdown",
   "metadata": {},
   "source": [
    "# Visualizing Data\n",
    "\n",
    "This notebook will introduce you to data visualization using Pandas and the Seaborn package. Here are a few useful links related to Seaborn:\n",
    "    \n",
    "* Seaborn Gallery of examples - https://seaborn.pydata.org/examples/index.html\n",
    "* Seaborn User guides and tutorials (great!) - https://seaborn.pydata.org/tutorial.html\n",
    "* Pandas Visualization tutorial - https://pandas.pydata.org/pandas-docs/stable/user_guide/visualization.html\n",
    "\n"
   ]
  },
  {
   "cell_type": "markdown",
   "metadata": {},
   "source": [
    "## 1. Open and read data into a DataFrame"
   ]
  },
  {
   "cell_type": "code",
   "execution_count": null,
   "metadata": {},
   "outputs": [],
   "source": [
    "import pandas as pd\n",
    "survey = pd.read_csv(\"smallsurvey.csv\")\n",
    "\n",
    "survey"
   ]
  },
  {
   "cell_type": "markdown",
   "metadata": {},
   "source": [
    "## 2. Data Cleaning, Filtering, and Wrangling\n",
    "\n",
    "Let's do some quick cleaning of the data like we did in the Pandas notebook. If you want more details, please refer to the Pandas notebook."
   ]
  },
  {
   "cell_type": "code",
   "execution_count": null,
   "metadata": {},
   "outputs": [],
   "source": [
    "\n",
    "clean_survey = survey.replace(\"\\\" vanilla\\\"\", \"\\\"Vanilla\\\"\")\n",
    "clean_survey[\"Q1\"] = clean_survey[\"Q1\"].str.replace('\"', '')\n",
    "clean_survey[\"Q2\"] = clean_survey[\"Q2\"].str.replace('\"', '')\n",
    "clean_survey[\"Q3\"] = clean_survey[\"Q3\"].str.replace('\"', '')\n",
    "clean_survey[\"Q4\"] = clean_survey[\"Q4\"].str.replace('\"', '')\n",
    "clean_survey['Q2'] = pd.to_numeric(clean_survey['Q2'])\n",
    "\n",
    "# Add a column called X1 with a list of values (same as before)\n",
    "clean_survey[\"X1\"] = [1, 1, 2, 1, 4, 2, 2 , 1, 3, 1, 2, 1, 3, 1]\n",
    "\n",
    "# We are going to have 3 types of ice cream varieties: Vanilla, Chocolate, and Other\n",
    "\n",
    "# List containing vanilla and chocolate\n",
    "voc=[\"Vanilla\", \"Chocolate\"]\n",
    "\n",
    "# If Q3 is not in the list voc, then set to \"Other\"\n",
    "clean_survey.loc[~clean_survey.Q3.isin(voc), 'Q3'] = \"Other\"\n",
    "\n",
    "# Check it out\n",
    "clean_survey"
   ]
  },
  {
   "cell_type": "markdown",
   "metadata": {},
   "source": [
    "## 3. Data Analysis\n",
    "\n",
    "We will skip this portion for now. Insert some data analysis here if you want to plot the results."
   ]
  },
  {
   "cell_type": "markdown",
   "metadata": {},
   "source": [
    "## 4. Data Visualization using Pandas!\n",
    "\n",
    "Now we get to the cool visualizations. We will start with some easy plots and then show you a few more complex examples. These are just scratching the surface. Use the links at the top of this notebook to see a gallery of examples and possibilities."
   ]
  },
  {
   "cell_type": "code",
   "execution_count": null,
   "metadata": {},
   "outputs": [],
   "source": [
    "# The most basic is to use the plot() function for a column\n",
    "# This plot will only work for numeric data (so Q2 only)\n",
    "\n",
    "clean_survey[\"Q2\"].plot()"
   ]
  },
  {
   "cell_type": "code",
   "execution_count": null,
   "metadata": {},
   "outputs": [],
   "source": [
    "# We can tell the plot function what 'kind' of plot we want: bar, box, density, hexbin, hist, kde, line, pie, or scatter\n",
    "\n",
    "# Let's try a histogram using the kind 'box' for box plot\n",
    "\n",
    "clean_survey[\"Q2\"].plot(kind=\"box\")"
   ]
  },
  {
   "cell_type": "markdown",
   "metadata": {},
   "source": [
    "### You try it!"
   ]
  },
  {
   "cell_type": "code",
   "execution_count": null,
   "metadata": {},
   "outputs": [],
   "source": [
    "# Write the code to make a 'hist'ogram plot. Use the code above as inspiration / a guide.\n",
    "\n"
   ]
  },
  {
   "cell_type": "code",
   "execution_count": null,
   "metadata": {},
   "outputs": [],
   "source": [
    "# Let's group some data!\n",
    "# We can use groupby()\n",
    "\n",
    "clean_survey.groupby(\"Q1\").boxplot()"
   ]
  },
  {
   "cell_type": "code",
   "execution_count": null,
   "metadata": {},
   "outputs": [],
   "source": [
    "# Add some color to our box plot\n",
    "\n",
    "# Colors use RGB scheme - use this link for more information: https://htmlcolorcodes.com/color-picker\n",
    "\n",
    "plotcolor = {\n",
    "    \"boxes\": \"#00ffff\",    # Cyan\n",
    "    \"whiskers\": \"#ff0000\", # Red\n",
    "    \"medians\": \"#0000ff\",  # Blue\n",
    "    \"caps\": \"#555555\",     # Gray\n",
    "}\n",
    "\n",
    "clean_survey.groupby(\"Q1\").boxplot(color=plotcolor)"
   ]
  },
  {
   "cell_type": "code",
   "execution_count": null,
   "metadata": {},
   "outputs": [],
   "source": [
    "# Scatter plot between Q1 and X1\n",
    "\n",
    "clean_survey.plot.scatter(x=\"Q2\", y=\"X1\")"
   ]
  },
  {
   "cell_type": "markdown",
   "metadata": {},
   "source": [
    "### You try it!\n",
    "\n",
    "1. Go to the Pandas visualization guide: https://pandas.pydata.org/pandas-docs/stable/user_guide/visualization.html\n",
    "2. Make a plot of your own\n",
    "3. Try to change the format and/or colors of the plot. Hint: You may need to look at matplotlib style."
   ]
  },
  {
   "cell_type": "code",
   "execution_count": null,
   "metadata": {},
   "outputs": [],
   "source": [
    "# Make your awesome visualization here"
   ]
  },
  {
   "cell_type": "markdown",
   "metadata": {},
   "source": [
    "## 5. Data Visualization using Seaborn!\n",
    "\n",
    "Now we get to the even cooler visualizations. We will use the Seaborn package. There are multiple visualization packages available in Python. Others include Bokeh, ggplot, Plotly, folium, and geoplotlib. \n",
    "Similar to Pandas visualizations - we will start with some easy plots and then show you a few more complex examples. These are just scratching the surface. Use the links at the top of this notebook to see a gallery of examples and possibilities.\n",
    "\n",
    "Seaborn divides its visualizations functions based on the type of data\n",
    "* relplot - statistical relationships\n",
    "* displot - distributions of data\n",
    "* catplot - categorical data\n",
    "* regplot - regression models\n",
    "\n",
    "See more information here: https://seaborn.pydata.org/tutorial.html"
   ]
  },
  {
   "cell_type": "code",
   "execution_count": null,
   "metadata": {},
   "outputs": [],
   "source": [
    "# Import the seaborn package\n",
    "import seaborn as sns"
   ]
  },
  {
   "cell_type": "code",
   "execution_count": null,
   "metadata": {},
   "outputs": [],
   "source": [
    "# Bar chart example (simple)\n",
    "\n",
    "# We will plot categorical data (catplot)\n",
    "graph = sns.catplot(\n",
    "    data=clean_survey, kind=\"bar\",\n",
    "    y=\"Q2\")"
   ]
  },
  {
   "cell_type": "code",
   "execution_count": null,
   "metadata": {},
   "outputs": [],
   "source": [
    "# Bar chart example - group by Q1 (left versus right handed)\n",
    "\n",
    "# We will plot categorical data (catplot)\n",
    "graph = sns.catplot(\n",
    "    data=clean_survey, kind=\"bar\",\n",
    "    y=\"Q2\", x=\"Q1\")"
   ]
  },
  {
   "cell_type": "code",
   "execution_count": null,
   "metadata": {},
   "outputs": [],
   "source": [
    "# Swarm plot (with jitter so you can see overlapping data and hue so you can see ice cream preference too)\n",
    "\n",
    "# We will plot categorical data (catplot)\n",
    "graph = sns.catplot(\n",
    "    data=clean_survey, jitter=True, hue=\"Q3\",\n",
    "    y=\"Q2\", x=\"Q1\")"
   ]
  },
  {
   "cell_type": "markdown",
   "metadata": {},
   "source": [
    "### You try it!\n",
    "\n",
    "Another type of visualization is called a violin plot. Use the code above and the guide below to create your own violine plot.\n",
    "\n",
    "Look at the guide here: https://seaborn.pydata.org/tutorial/categorical.html#violinplots"
   ]
  },
  {
   "cell_type": "code",
   "execution_count": null,
   "metadata": {},
   "outputs": [],
   "source": [
    "# Create a violin plot here\n"
   ]
  },
  {
   "cell_type": "markdown",
   "metadata": {},
   "source": [
    "## 6. Visualization using a bigger dataset\n",
    "\n",
    "Let's use a bigger dataset from the seaborn sample data drawn from the Titanic.\n",
    "This will allow us to try some of the more interesting visualization techniques."
   ]
  },
  {
   "cell_type": "code",
   "execution_count": null,
   "metadata": {},
   "outputs": [],
   "source": [
    "\n",
    "# Load the titanic dataset and save it as a dataframe called tsurvey\n",
    "tsurvey = sns.load_dataset('titanic')\n",
    "\n",
    "# Check it out\n",
    "tsurvey"
   ]
  },
  {
   "cell_type": "code",
   "execution_count": null,
   "metadata": {},
   "outputs": [],
   "source": [
    "# Create a binned histogram plot by age\n",
    "\n",
    "sns.displot(tsurvey, x=\"age\", bins=[5, 10, 15, 20, 25, 30, 35, 40, 45, 50, 55])"
   ]
  },
  {
   "cell_type": "code",
   "execution_count": null,
   "metadata": {},
   "outputs": [],
   "source": [
    "# Create a binned histogram plot by age\n",
    "# Divide by sex\n",
    "\n",
    "sns.displot(tsurvey, x=\"age\", bins=[5, 10, 15, 20, 25, 30, 35, 40, 45, 50, 55], hue=\"sex\")"
   ]
  },
  {
   "cell_type": "code",
   "execution_count": null,
   "metadata": {},
   "outputs": [],
   "source": [
    "# Let's change the style of this plot\n",
    "\n",
    "# Set the context between: paper, talk, poster, notebook\n",
    "sns.set_context(\"talk\")\n",
    "\n",
    "# Set the style between: white, dark, whitegrid, ticks\n",
    "sns.set_style(\"white\")\n",
    "\n",
    "sns.displot(tsurvey, x=\"age\", bins=[5, 10, 15, 20, 25, 30, 35, 40, 45, 50, 55], hue=\"sex\", kde=True)"
   ]
  },
  {
   "cell_type": "code",
   "execution_count": null,
   "metadata": {},
   "outputs": [],
   "source": [
    "# Regression: age and fare.\n",
    "\n",
    "# Set the context back to paper. Otherwise it is hard to see.\n",
    "sns.set_context(\"paper\")\n",
    "\n",
    "sns.regplot(data=tsurvey, x=\"age\", y=\"fare\")"
   ]
  },
  {
   "cell_type": "code",
   "execution_count": null,
   "metadata": {},
   "outputs": [],
   "source": [
    "# Regression: age and fare. hue based on sex.\n",
    "\n",
    "# Set the context back to paper. Otherwise it is hard to see.\n",
    "sns.set_context(\"paper\")\n",
    "\n",
    "sns.lmplot(data=tsurvey, x=\"age\", y=\"fare\", hue=\"sex\")"
   ]
  },
  {
   "cell_type": "code",
   "execution_count": null,
   "metadata": {},
   "outputs": [],
   "source": [
    "# Regression: age and fare. hue based on sex. divided by class.\n",
    "\n",
    "# Note: Certainly could be improved. This is just to show you what is possible.\n",
    "\n",
    "sns.lmplot(data=tsurvey, x=\"age\", y=\"fare\", hue=\"sex\", col=\"class\")"
   ]
  },
  {
   "cell_type": "code",
   "execution_count": null,
   "metadata": {},
   "outputs": [],
   "source": [
    "# Distribution\n",
    "\n",
    "sns.displot(tsurvey, x=\"age\", y=\"fare\", hue=\"sex\", kind=\"kde\")"
   ]
  },
  {
   "cell_type": "code",
   "execution_count": null,
   "metadata": {},
   "outputs": [],
   "source": [
    "# Joint plot\n",
    "\n",
    "sns.jointplot(\n",
    "    data=tsurvey,\n",
    "    x=\"age\", y=\"fare\", hue=\"sex\",\n",
    "    kind=\"kde\"\n",
    ")"
   ]
  }
 ],
 "metadata": {
  "kernelspec": {
   "display_name": "Python 3",
   "language": "python",
   "name": "python3"
  },
  "language_info": {
   "codemirror_mode": {
    "name": "ipython",
    "version": 3
   },
   "file_extension": ".py",
   "mimetype": "text/x-python",
   "name": "python",
   "nbconvert_exporter": "python",
   "pygments_lexer": "ipython3",
   "version": "3.7.7"
  }
 },
 "nbformat": 4,
 "nbformat_minor": 4
}
